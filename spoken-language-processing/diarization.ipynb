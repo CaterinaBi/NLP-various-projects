{
  "nbformat": 4,
  "nbformat_minor": 0,
  "metadata": {
    "colab": {
      "provenance": []
    },
    "kernelspec": {
      "name": "python3",
      "display_name": "Python 3"
    },
    "language_info": {
      "name": "python"
    }
  },
  "cells": [
    {
      "cell_type": "code",
      "metadata": {
        "id": "0olmXXwkH1mK"
      },
      "source": [
        "import matplotlib.pyplot as plt\n",
        "import torch\n",
        "import torch.nn.functional as F\n",
        "import numpy as np"
      ],
      "execution_count": null,
      "outputs": []
    },
    {
      "cell_type": "code",
      "metadata": {
        "id": "-CDWk2PLH-aQ",
        "colab": {
          "base_uri": "https://localhost:8080/",
          "height": 299
        },
        "outputId": "79313efc-2b62-4c56-81da-4c7584b74137"
      },
      "source": [
        "# Load sequence of 20 two-dimensional embeddings that correspond to speakers\n",
        "embeddings = torch.tensor([[ 0.9650,  1.0973],\n",
        "        [ 1.0311,  0.8695],\n",
        "        [ 1.0528,  1.1831],\n",
        "        [ 0.9816,  0.9152],\n",
        "        [ 1.1009,  1.0204],\n",
        "        [ 0.7898, -1.2048],\n",
        "        [ 0.9541, -1.2379],\n",
        "        [ 1.0078,  1.0875],\n",
        "        [ 1.1106,  0.8520],\n",
        "        [ 1.0402,  1.0024],\n",
        "        [-0.8218, -1.0591],\n",
        "        [-1.1963,  0.8467],\n",
        "        [-0.4366,  0.7715],\n",
        "        [-0.9319,  1.0371],\n",
        "        [-1.2353,  0.9254],\n",
        "        [-1.2013,  0.7058],\n",
        "        [-0.4425,  1.1648],\n",
        "        [ 0.8034, -1.3166],\n",
        "        [ 0.8892, -0.8836],\n",
        "        [ 0.9778, -0.6546]], dtype=torch.float64)\n",
        "print(embeddings.shape)\n",
        "plt.scatter(embeddings[:,0], embeddings[:,1])"
      ],
      "execution_count": null,
      "outputs": [
        {
          "output_type": "stream",
          "name": "stdout",
          "text": [
            "torch.Size([20, 2])\n"
          ]
        },
        {
          "output_type": "execute_result",
          "data": {
            "text/plain": [
              "<matplotlib.collections.PathCollection at 0x7f36f0005f10>"
            ]
          },
          "metadata": {},
          "execution_count": 2
        },
        {
          "output_type": "display_data",
          "data": {
            "image/png": "[encoded data removed]",
            "text/plain": [
              "<Figure size 432x288 with 1 Axes>"
            ]
          },
          "metadata": {
            "needs_background": "light"
          }
        }
      ]
    },
    {
      "cell_type": "code",
      "metadata": {
        "id": "ubMR8w0kIAuo"
      },
      "source": [
        "def cluster_embeddings(embeds, clustering_threshold=0.65):\n",
        "    \"\"\"\n",
        "    Performs clustering to get speaker assignment\n",
        "    \"\"\"\n",
        "    # Hint use data structure to contain: centroid, num_points_in_cluster\n",
        "    clusters =\n",
        "    spkr_assignments =\n",
        "\n",
        "    return spkr_assignments"
      ],
      "execution_count": null,
      "outputs": []
    },
    {
      "cell_type": "code",
      "metadata": {
        "id": "35-eayZFIC1Z"
      },
      "source": [
        "# Run the clustering algorithm\n",
        "spkr_assignments = cluster_embeddings(embeddings)\n",
        "print(spkr_assignments)\n",
        "# test to see if you are correct\n",
        "true_speakers = [0, 0, 0, 0, 0, 1, 1, 0, 0, 0, 2, 3, 3, 3, 3, 3, 3, 1, 1, 1]\n",
        "assert spkr_assignments == true_speakers, \"Your assignments do not match the true labels\""
      ],
      "execution_count": null,
      "outputs": []
    },
    {
      "cell_type": "code",
      "metadata": {
        "id": "iBTaqxOiMuOZ"
      },
      "source": [],
      "execution_count": null,
      "outputs": []
    }
  ]
}