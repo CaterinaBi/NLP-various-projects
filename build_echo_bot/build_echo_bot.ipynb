{
 "cells": [
  {
   "cell_type": "code",
   "execution_count": 6,
   "metadata": {},
   "outputs": [
    {
     "name": "stdout",
     "output_type": "stream",
     "text": [
      "hello\n"
     ]
    },
    {
     "data": {
      "text/plain": [
       "'I can hear you! You said: hello.'"
      ]
     },
     "execution_count": 6,
     "metadata": {},
     "output_type": "execute_result"
    }
   ],
   "source": [
    "# first echo bot\n",
    "\n",
    "import time\n",
    "\n",
    "# needs function that accepts message as parameter and returns a message\n",
    "\n",
    "def respond(message):\n",
    "    time.sleep(1)\n",
    "    answer = f'I can hear you! You said: {message}.'\n",
    "    # print(answer)\n",
    "    return answer\n",
    "\n",
    "message = 'hello'\n",
    "print(message)\n",
    "respond(message)"
   ]
  },
  {
   "cell_type": "code",
   "execution_count": 8,
   "metadata": {},
   "outputs": [
    {
     "name": "stdout",
     "output_type": "stream",
     "text": [
      "USER : hello\n"
     ]
    },
    {
     "ename": "NameError",
     "evalue": "name 'answer' is not defined",
     "output_type": "error",
     "traceback": [
      "\u001b[0;31m---------------------------------------------------------------------------\u001b[0m",
      "\u001b[0;31mNameError\u001b[0m                                 Traceback (most recent call last)",
      "Cell \u001b[0;32mIn [8], line 23\u001b[0m\n\u001b[1;32m     20\u001b[0m     \u001b[38;5;28mprint\u001b[39m(bot_template\u001b[38;5;241m.\u001b[39mformat(answer))\n\u001b[1;32m     22\u001b[0m \u001b[38;5;66;03m# Send a message to the bot\u001b[39;00m\n\u001b[0;32m---> 23\u001b[0m \u001b[43msend_message\u001b[49m\u001b[43m(\u001b[49m\u001b[38;5;124;43m\"\u001b[39;49m\u001b[38;5;124;43mhello\u001b[39;49m\u001b[38;5;124;43m\"\u001b[39;49m\u001b[43m)\u001b[49m\n",
      "Cell \u001b[0;32mIn [8], line 20\u001b[0m, in \u001b[0;36msend_message\u001b[0;34m(message)\u001b[0m\n\u001b[1;32m     18\u001b[0m response \u001b[38;5;241m=\u001b[39m respond(message)\n\u001b[1;32m     19\u001b[0m \u001b[38;5;66;03m# Print the bot template including the bot's response.\u001b[39;00m\n\u001b[0;32m---> 20\u001b[0m \u001b[38;5;28mprint\u001b[39m(bot_template\u001b[38;5;241m.\u001b[39mformat(\u001b[43manswer\u001b[49m))\n",
      "\u001b[0;31mNameError\u001b[0m: name 'answer' is not defined"
     ]
    }
   ],
   "source": [
    "# second echo bot\n",
    "\n",
    "# Create templates\n",
    "bot_template = \"BOT : {0}\"\n",
    "user_template = \"USER : {0}\"\n",
    "\n",
    "def respond(message):\n",
    "    time.sleep(1)\n",
    "    answer = f'I can hear you! You said: {message}.'\n",
    "    # print(answer)\n",
    "    return answer\n",
    "\n",
    "# Define a function that sends a message to the bot: send_message\n",
    "def send_message(message):\n",
    "    # Print user_template including the user_message\n",
    "    print(user_template.format(message))\n",
    "    # Get the bot's response to the message\n",
    "    response = respond(message)\n",
    "    # Print the bot template including the bot's response.\n",
    "    print(bot_template.format(response))\n",
    "\n",
    "# Send a message to the bot\n",
    "send_message(\"hello\")"
   ]
  }
 ],
 "metadata": {
  "interpreter": {
   "hash": "86542dfcd30dcaa99d84c6e4d33cb0a4033de368badbca79a096b5e59f3a5c85"
  },
  "kernelspec": {
   "display_name": "Python 3.10.6 ('NLP')",
   "language": "python",
   "name": "python3"
  },
  "language_info": {
   "codemirror_mode": {
    "name": "ipython",
    "version": 3
   },
   "file_extension": ".py",
   "mimetype": "text/x-python",
   "name": "python",
   "nbconvert_exporter": "python",
   "pygments_lexer": "ipython3",
   "version": "3.10.6"
  },
  "orig_nbformat": 4
 },
 "nbformat": 4,
 "nbformat_minor": 2
}
