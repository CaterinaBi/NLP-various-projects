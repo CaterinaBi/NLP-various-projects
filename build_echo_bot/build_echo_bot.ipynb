{
 "cells": [
  {
   "cell_type": "code",
   "execution_count": 5,
   "metadata": {},
   "outputs": [
    {
     "name": "stdout",
     "output_type": "stream",
     "text": [
      "hello\n",
      "I can hear you! You said: hello.\n"
     ]
    },
    {
     "data": {
      "text/plain": [
       "'I can hear you! You said: hello.'"
      ]
     },
     "execution_count": 5,
     "metadata": {},
     "output_type": "execute_result"
    }
   ],
   "source": [
    "import time\n",
    "\n",
    "# needs function that accepts message as parameter and returns a message\n",
    "\n",
    "def respond(message):\n",
    "    time.sleep(1)\n",
    "    answer = f'I can hear you! You said: {message}.'\n",
    "    # print(answer)\n",
    "    return answer\n",
    "\n",
    "message = 'hello'\n",
    "print(message)\n",
    "respond(message)"
   ]
  }
 ],
 "metadata": {
  "interpreter": {
   "hash": "86542dfcd30dcaa99d84c6e4d33cb0a4033de368badbca79a096b5e59f3a5c85"
  },
  "kernelspec": {
   "display_name": "Python 3.10.6 ('NLP')",
   "language": "python",
   "name": "python3"
  },
  "language_info": {
   "codemirror_mode": {
    "name": "ipython",
    "version": 3
   },
   "file_extension": ".py",
   "mimetype": "text/x-python",
   "name": "python",
   "nbconvert_exporter": "python",
   "pygments_lexer": "ipython3",
   "version": "3.10.6"
  },
  "orig_nbformat": 4
 },
 "nbformat": 4,
 "nbformat_minor": 2
}
