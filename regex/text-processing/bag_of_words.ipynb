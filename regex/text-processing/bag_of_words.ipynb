{
 "cells": [
  {
   "cell_type": "code",
   "execution_count": 17,
   "metadata": {},
   "outputs": [
    {
     "name": "stdout",
     "output_type": "stream",
     "text": [
      "[('wolf', 9), ('little', 8), ('red', 7), ('riding', 7), ('grandmother', 7), ('hood', 6), ('tap', 6), ('door', 5), ('big', 5), ('see', 4)]\n"
     ]
    },
    {
     "name": "stderr",
     "output_type": "stream",
     "text": [
      "[nltk_data] Downloading package stopwords to\n",
      "[nltk_data]     /Users/caterinabonan/nltk_data...\n",
      "[nltk_data]   Unzipping corpora/stopwords.zip.\n"
     ]
    }
   ],
   "source": [
    "# Import Counter\n",
    "from collections import Counter\n",
    "from nltk.tokenize import word_tokenize\n",
    "from nltk.corpus import stopwords\n",
    "\n",
    "import nltk\n",
    "nltk.download('stopwords')\n",
    "\n",
    "with open('red_riding_hood.txt', mode='r', encoding='utf-8') as f:\n",
    "\n",
    "    story = f.read()\n",
    "\n",
    "    # Tokenize the article: tokens (removes digits and punctuation)\n",
    "    tokens = [w for w in word_tokenize(story.lower()) if w.isalpha()]\n",
    "\n",
    "    no_stops = [t for t in tokens if t not in stopwords.words('english')]\n",
    "\n",
    "    # Create a Counter with the lowercase tokens: bow_simple\n",
    "    bow_simple = Counter(no_stops)\n",
    "\n",
    "    # Print the 10 most common tokens\n",
    "    print(bow_simple.most_common(10))"
   ]
  }
 ],
 "metadata": {
  "interpreter": {
   "hash": "86542dfcd30dcaa99d84c6e4d33cb0a4033de368badbca79a096b5e59f3a5c85"
  },
  "kernelspec": {
   "display_name": "Python 3.10.6 ('NLP')",
   "language": "python",
   "name": "python3"
  },
  "language_info": {
   "codemirror_mode": {
    "name": "ipython",
    "version": 3
   },
   "file_extension": ".py",
   "mimetype": "text/x-python",
   "name": "python",
   "nbconvert_exporter": "python",
   "pygments_lexer": "ipython3",
   "version": "3.10.6"
  },
  "orig_nbformat": 4
 },
 "nbformat": 4,
 "nbformat_minor": 2
}
